{
 "cells": [
  {
   "cell_type": "code",
   "execution_count": 2,
   "id": "9575a71a-c9ff-428e-a8ef-bd3c6ad4217c",
   "metadata": {},
   "outputs": [
    {
     "name": "stdout",
     "output_type": "stream",
     "text": [
      "200\n",
      "(2,e)}}},2555:(e,t,r)=>{\"use strict\";r.d(t,{D:()=>s,f:()=>a});var n=r(384),i=r(8122);const o={beacon:n.NT.beacon,errorBeacon:n.NT.errorBeacon,licenseKey:void 0,applicationID:void 0,sa:void 0,queueTime:void 0,applicationTime:void 0,ttGuid:void 0,user:void 0,account:void 0,product:void 0,extra:void 0,jsAttributes:{},userAttributes:void 0,atts:void 0,transactionName:void 0,tNamePlain:void 0};function a(e){try{return!!e.licenseKey&&!!e.errorBeacon&&!!e.applicationID}catch(e){return!1}}const s=e=>(0,\n"
     ]
    }
   ],
   "source": [
    "import requests\n",
    "\n",
    "# Headers tell the website about our \"browser\"\n",
    "headers = {\n",
    "    'User-Agent': 'Mozilla/5.0 (Macintosh; Intel Mac OS X 10_15_7) AppleWebKit/537.36'\n",
    "}\n",
    "\n",
    "# Now make the request WITH headers\n",
    "response = requests.get(\n",
    "    \"https://www.ncaa.com/scoreboard/football/d3/2024/05/all-conf\", \n",
    "    headers=headers\n",
    ")\n",
    "\n",
    "print(response.status_code)\n",
    "\n",
    "print(response.text[1000:1500])  # Characters 1000-1500"
   ]
  },
  {
   "cell_type": "code",
   "execution_count": 3,
   "id": "19d59b42-4c10-43bc-bb5d-3bd15d6ebd7a",
   "metadata": {},
   "outputs": [
    {
     "name": "stdout",
     "output_type": "stream",
     "text": [
      "NCAA College Football Scores, Schedule | NCAA.com\n"
     ]
    }
   ],
   "source": [
    "from bs4 import BeautifulSoup\n",
    "\n",
    "# Parse the HTML (make it searchable)\n",
    "soup = BeautifulSoup(response.text, 'html.parser')\n",
    "\n",
    "# Find the page title as a test\n",
    "title = soup.find('title')\n",
    "print(title.text)"
   ]
  },
  {
   "cell_type": "code",
   "execution_count": 11,
   "id": "d3902228-9a14-47d3-90d5-dfc758381cda",
   "metadata": {},
   "outputs": [
    {
     "name": "stdout",
     "output_type": "stream",
     "text": [
      "Div 0 Class : ['layout--has-sidebar']\n",
      "Div 1 Class : ['layout--content-left']\n",
      "Div 1 ID : preact-games-list-target\n",
      "Div 2 Class : ['stax-tier-outer', 'tier-mobile-default']\n",
      "Div 3 Class : ['stax-tier-inner', 'wrap', 'one-across']\n",
      "Div 4 Class : ['stax-tier-slot', 'stax-tile']\n",
      "Div 5 Class : ['dfp']\n",
      "Div 5 ID : ad_rect_atf_01\n",
      "Div 6 Class : ['stax-tier-outer', 'tier-mobile-default']\n",
      "Div 7 Class : ['stax-tier-inner', 'wrap', 'one-across']\n",
      "Div 8 Class : ['stax-tier-slot', 'stax-tile']\n",
      "Div 9 Class : ['liveVideoTile']\n",
      "Div 10 Class : ['stax-tier-outer', 'tier-mobile-default']\n",
      "Div 11 Class : ['stax-tier-inner', 'wrap', 'one-across']\n",
      "Div 12 Class : ['stax-tier-slot', 'stax-tile']\n",
      "Div 13 Class : ['tile-links']\n",
      "Div 14 Class : ['stax-tier-outer', 'tier-mobile-default']\n",
      "Div 15 Class : ['stax-tier-inner', 'wrap', 'one-across']\n",
      "Div 16 Class : ['stax-tier-slot', 'stax-tile']\n",
      "Div 17 Class : ['tile-image-container', 'with-cta']\n",
      "Div 18 Class : ['tile-body-container']\n",
      "Div 19 Class : ['tile-cta']\n",
      "Div 20 Class : ['stax-tier-outer', 'tier-mobile-default']\n",
      "Div 21 Class : ['stax-tier-inner', 'wrap', 'one-across']\n",
      "Div 22 Class : ['stax-tier-slot', 'stax-tile']\n",
      "Div 23 Class : ['tile-image-container', 'with-cta']\n",
      "Div 24 Class : ['tile-body-container']\n",
      "Div 25 Class : ['tile-cta']\n",
      "Div 26 Class : ['stax-tier-outer', 'tier-mobile-default']\n",
      "Div 27 Class : ['stax-tier-inner', 'wrap', 'one-across']\n",
      "Div 28 Class : ['stax-tier-slot', 'stax-tile']\n",
      "Div 29 Class : ['tile-image-container', 'with-cta']\n",
      "Div 30 Class : ['tile-body-container']\n",
      "Div 31 Class : ['tile-cta']\n",
      "Div 32 Class : ['footer-ad', 'clearfix']\n",
      "Div 33 Class : ['footer-wrapper']\n",
      "Div 34 Class : ['dfp']\n",
      "Div 34 ID : ad_nfs_btf_01\n",
      "Div 35 Class : ['dfp']\n",
      "Div 35 ID : ad_nfs_btf_02\n",
      "Div 36 Class : ['dfp']\n",
      "Div 36 ID : ad_nfs_btf_03\n",
      "Div 37 Class : ['footer', 'clearfix']\n",
      "Div 38 Class : ['footer-wrapper']\n",
      "Div 39 Class : ['footer-submenu', 'clearfix']\n",
      "Div 40 Class : ['footer-copy']\n",
      "Div 41 Class : ['mobile-persistent-bottom']\n",
      "Div 42 Class : ['dfp']\n",
      "Div 42 ID : ad_bnr_atf_02\n"
     ]
    }
   ],
   "source": [
    "divs = soup.find_all('div')\n",
    "\n",
    "# Look at the first 10 divs to get a sense of the structure\n",
    "for i, div in enumerate(divs[95:150]):\n",
    "    # Get the class name if it exists\n",
    "    class_name = div.get('class', 'no class')\n",
    "    id_name = div.get('id', 'no id')\n",
    "    if class_name != 'no class': \n",
    "        print(f\"Div {i} Class : {class_name}\")\n",
    "    if id_name != 'no id': \n",
    "        print(f\"Div {i} ID : {id_name}\")"
   ]
  },
  {
   "cell_type": "code",
   "execution_count": null,
   "id": "89ec700f-3fa9-4601-bdbe-3562621baf32",
   "metadata": {},
   "outputs": [],
   "source": []
  }
 ],
 "metadata": {
  "kernelspec": {
   "display_name": "Python 3 (ipykernel)",
   "language": "python",
   "name": "python3"
  },
  "language_info": {
   "codemirror_mode": {
    "name": "ipython",
    "version": 3
   },
   "file_extension": ".py",
   "mimetype": "text/x-python",
   "name": "python",
   "nbconvert_exporter": "python",
   "pygments_lexer": "ipython3",
   "version": "3.13.5"
  }
 },
 "nbformat": 4,
 "nbformat_minor": 5
}
